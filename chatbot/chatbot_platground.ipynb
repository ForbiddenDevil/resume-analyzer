{
 "cells": [
  {
   "cell_type": "code",
   "execution_count": 4,
   "metadata": {},
   "outputs": [
    {
     "data": {
      "text/plain": [
       "True"
      ]
     },
     "execution_count": 4,
     "metadata": {},
     "output_type": "execute_result"
    }
   ],
   "source": [
    "from django.conf import settings\n",
    "import os\n",
    "from dotenv import load_dotenv\n",
    "from django.core.files.storage import default_storage\n",
    "from llama_index.core import (\n",
    "    VectorStoreIndex,\n",
    "    SimpleDirectoryReader,\n",
    "    StorageContext,\n",
    ")\n",
    "from llama_index.core import SimpleDirectoryReader, VectorStoreIndex\n",
    "from llama_index.vector_stores.chroma import ChromaVectorStore\n",
    "from llama_index.core import StorageContext\n",
    "from llama_index.core.node_parser import SentenceSplitter\n",
    "from llama_index.core.tools import FunctionTool\n",
    "from llama_index.core.vector_stores import MetadataFilters, FilterCondition\n",
    "from typing import List, Optional\n",
    "\n",
    "from llama_index.embeddings.openai import OpenAIEmbedding\n",
    "import chromadb\n",
    "\n",
    "load_dotenv()"
   ]
  },
  {
   "cell_type": "code",
   "execution_count": 5,
   "metadata": {},
   "outputs": [],
   "source": [
    "settings.configure()"
   ]
  },
  {
   "cell_type": "code",
   "execution_count": 9,
   "metadata": {},
   "outputs": [],
   "source": [
    "def create_indexing():\n",
    "    # Set the directory path where your PDF files are located\n",
    "    pdf_directory = os.path.join(default_storage.location, \"uploads\")\n",
    "\n",
    "    # Set the directory to store the index\n",
    "    index_directory = os.path.join(default_storage.location, \"index\")\n",
    "\n",
    "    # Create a SimpleDirectoryReader to read PDF files from the directory\n",
    "    documents = SimpleDirectoryReader(pdf_directory).load_data()\n",
    "\n",
    "    print(\"len of doc: \", len(documents))\n",
    "\n",
    "    splitter = SentenceSplitter(chunk_size=1024, chunk_overlap=100)\n",
    "    nodes = splitter.get_nodes_from_documents(documents)\n",
    "    print(f\"Length of nodes : {len(nodes)}\")\n",
    "\n",
    "    db = chromadb.PersistentClient(path=index_directory)\n",
    "    chroma_collection = db.get_or_create_collection(\"multidocument-agent\")\n",
    "    vector_store = ChromaVectorStore(chroma_collection=chroma_collection)\n",
    "    storage_context = StorageContext.from_defaults(vector_store=vector_store)\n",
    "    # vector_index = VectorStoreIndex(nodes, storage_context=storage_context)\n",
    "\n",
    "    # define embedding function\n",
    "    embed_model = OpenAIEmbedding(\n",
    "        model_name=\"text-embedding-3-small\", embed_batch_size=10\n",
    "    )\n",
    "\n",
    "    vector_index = VectorStoreIndex.from_documents(\n",
    "        documents, storage_context=storage_context, embed_model=embed_model\n",
    "    )\n",
    "\n",
    "    # Save the index to the specified directory\n",
    "    vector_index.storage_context.vector_store.persist(persist_path=index_directory)\n",
    "\n",
    "    print(f\"Index created and saved for {len(documents)} PDF files.\")\n",
    "\n",
    "\n",
    "def vector_query(query: str, page_numbers: Optional[List[str]] = None):\n",
    "    # Set the directory where the index is stored\n",
    "    index_directory = os.path.join(default_storage.location, \"index\")\n",
    "\n",
    "    # define embedding function\n",
    "    embed_model = OpenAIEmbedding(\n",
    "        model_name=\"text-embedding-3-small\", embed_batch_size=10\n",
    "    )\n",
    "\n",
    "    # load from disk\n",
    "    db2 = chromadb.PersistentClient(path=index_directory)\n",
    "    chroma_collection = db2.get_or_create_collection(\"multidocument-agent\")\n",
    "    vector_store = ChromaVectorStore(chroma_collection=chroma_collection)\n",
    "    vector_index = VectorStoreIndex.from_vector_store(\n",
    "        vector_store,\n",
    "        embed_model=embed_model,\n",
    "    )\n",
    "\n",
    "    page_numbers = page_numbers or []\n",
    "    metadata_dict = [{\"key\": \"page_label\", \"value\": p} for p in page_numbers]\n",
    "\n",
    "    query_engine = vector_index.as_query_engine(\n",
    "        similarity_top_k=2,\n",
    "        filters=MetadataFilters.from_dicts(metadata_dict, condition=FilterCondition.OR),\n",
    "    )\n",
    "\n",
    "    return query_engine.query(query)"
   ]
  },
  {
   "cell_type": "code",
   "execution_count": 11,
   "metadata": {},
   "outputs": [
    {
     "data": {
      "text/plain": [
       "Response(response='M.S in Electrical and Computer Engineering from Purdue University\\nB.S in Electrical and Computer Engineering', source_nodes=[NodeWithScore(node=TextNode(id_='9cddbe92-8d47-43fe-a44f-83fddfe78ebd', embedding=None, metadata={'page_label': '1', 'file_name': '10265057.pdf', 'file_path': 'c:\\\\Users\\\\ch255039\\\\Downloads\\\\work\\\\projects\\\\Resume_Parser\\\\resume-analyzer\\\\chatbot\\\\uploads\\\\10265057.pdf', 'file_type': 'application/pdf', 'file_size': 20247, 'creation_date': '2024-07-23', 'last_modified_date': '2024-07-09'}, excluded_embed_metadata_keys=['file_name', 'file_type', 'file_size', 'creation_date', 'last_modified_date', 'last_accessed_date'], excluded_llm_metadata_keys=['file_name', 'file_type', 'file_size', 'creation_date', 'last_modified_date', 'last_accessed_date'], relationships={<NodeRelationship.SOURCE: '1'>: RelatedNodeInfo(node_id='e7f85729-896b-459b-8940-2d7032a21f6a', node_type=<ObjectType.DOCUMENT: '4'>, metadata={'page_label': '1', 'file_name': '10265057.pdf', 'file_path': 'c:\\\\Users\\\\ch255039\\\\Downloads\\\\work\\\\projects\\\\Resume_Parser\\\\resume-analyzer\\\\chatbot\\\\uploads\\\\10265057.pdf', 'file_type': 'application/pdf', 'file_size': 20247, 'creation_date': '2024-07-23', 'last_modified_date': '2024-07-09'}, hash='ab5e93c3fcd94799a5533027b54fea5ca216be6b02b4878dea9bb684d2b06769'), <NodeRelationship.PREVIOUS: '2'>: RelatedNodeInfo(node_id='8ba74307-7496-4220-a1f2-44905925e730', node_type=<ObjectType.TEXT: '1'>, metadata={'page_label': '1', 'file_name': '10265057.pdf', 'file_path': 'c:\\\\Users\\\\ch255039\\\\Downloads\\\\work\\\\projects\\\\Resume_Parser\\\\resume-analyzer\\\\chatbot\\\\uploads\\\\10265057.pdf', 'file_type': 'application/pdf', 'file_size': 20247, 'creation_date': '2024-07-23', 'last_modified_date': '2024-07-09'}, hash='1b48c890f4e548b26a31113dc63dc34efc231003c6f3274d47a9a2836379a2b1')}, text='Education\\nM.S\\n \\n: \\nElectrical and Computer Engineering\\n \\n, \\nDec. 2013\\n \\nPURDUE UNIVERSITY\\n \\nGPA: \\nGPA: 3.9/4.0\\n \\nElectrical and Computer Engineering GPA:\\n3.9/4.0\\nB.S\\n \\n: \\nElectrical and Computer Engineering\\n \\n, \\nDec. 2011\\n \\nGPA: \\nGPA: 3.2/4.0\\n \\nElectrical and Computer Engineering GPA: 3.2/4.0 Thesis \\nThe Design\\nand Evaluation of a 5.8 GHz Laptop-Based Radar System Publication \\nÂ· Innovative laptop radar design to operate in both FMCW and CW\\nmode Â· Doppler shift (DTI), ranging (RTI), and SAR measurement capability Â· Operate in ISM frequency band with +13dBm transmitting\\npower Â· Data acquisition and signal processing using Matlab\\nSkills\\nbig data, C, C++, charts, Circuit design, hardware, Data acquisition, data analyst, data collection, data mining, databases, database, dBm, DTI,\\ndesign software, documentation, functional, GSM, innovation, Java, LabView, Team leader, Logic Analyzer, Mac, manufacturing processes,\\nMatlab, Excel, Microsoft office, Office, Microwave, Radar, NCs, Network, dB, packaging, pivot tables, Programming, project design, proposals,\\nPublication, Python, quality, requirement, research, SAS, self-starter, Spectrum analyzer, SPSS, SQL, SSL, statistics, surveys, system design,\\ntroubleshooting, validation', mimetype='text/plain', start_char_idx=3954, end_char_idx=5192, text_template='{metadata_str}\\n\\n{content}', metadata_template='{key}: {value}', metadata_seperator='\\n'), score=0.2701979367702431), NodeWithScore(node=TextNode(id_='8ba74307-7496-4220-a1f2-44905925e730', embedding=None, metadata={'page_label': '1', 'file_name': '10265057.pdf', 'file_path': 'c:\\\\Users\\\\ch255039\\\\Downloads\\\\work\\\\projects\\\\Resume_Parser\\\\resume-analyzer\\\\chatbot\\\\uploads\\\\10265057.pdf', 'file_type': 'application/pdf', 'file_size': 20247, 'creation_date': '2024-07-23', 'last_modified_date': '2024-07-09'}, excluded_embed_metadata_keys=['file_name', 'file_type', 'file_size', 'creation_date', 'last_modified_date', 'last_accessed_date'], excluded_llm_metadata_keys=['file_name', 'file_type', 'file_size', 'creation_date', 'last_modified_date', 'last_accessed_date'], relationships={<NodeRelationship.SOURCE: '1'>: RelatedNodeInfo(node_id='e7f85729-896b-459b-8940-2d7032a21f6a', node_type=<ObjectType.DOCUMENT: '4'>, metadata={'page_label': '1', 'file_name': '10265057.pdf', 'file_path': 'c:\\\\Users\\\\ch255039\\\\Downloads\\\\work\\\\projects\\\\Resume_Parser\\\\resume-analyzer\\\\chatbot\\\\uploads\\\\10265057.pdf', 'file_type': 'application/pdf', 'file_size': 20247, 'creation_date': '2024-07-23', 'last_modified_date': '2024-07-09'}, hash='ab5e93c3fcd94799a5533027b54fea5ca216be6b02b4878dea9bb684d2b06769'), <NodeRelationship.NEXT: '3'>: RelatedNodeInfo(node_id='9cddbe92-8d47-43fe-a44f-83fddfe78ebd', node_type=<ObjectType.TEXT: '1'>, metadata={}, hash='729fac49d3747401700243cdd591784927d5f36de3d76800b7bb6560c5cceb56')}, text=\"WORKING RF SYSTEMS ENGINEER\\nQualifications\\nMicrosoft office/Office for Mac, pages, numbers, keynote Â· RF/Microwave software: Ansoft Designer, AWR Microwave Office. Â· RF test\\ninstruments: Spectrum analyzer, Vector Network/Signal Analyzer, Logic Analyzer, etc. Â· Programming language: C/C++, Python, Java,\\nMatlab, and LabView Â· Circuit design software: SPICE, NI Multisim Â· PCB design software: Eagle, PCB Artiest\\nExperience\\nWorking \\nRF Systems Engineer\\n \\nMay 2014\\n \\nto \\nCurrent\\n \\nCompany Name\\nQualification \\nÂ· Multidisciplinary background: RF hardware designs, manufacturing operations and data analyst.\\nSummary \\nÂ· Experienced in developing hardware's DFM procedures, checklists and requirements to subcontractors Â· Perform EVT,\\nDVT, PVT verifications and utilize FA process to drive root cause from system to unit level Â· Team leader on multiple end-to-end\\ntechnical project design, development, testing and validation Â· Manage Test/Production readiness reviews and drives quality requirement\\nfor post-ramp qualification Â· Ability to manage multiple projects simultaneously, self-starter with innovation and sharp attention to details\\nExperiences \\n- New RF systems introduction on satellite communication architecture designs and proposals - Define RF hardware unit DFM\\nprocedures and requirements for Antenna, receivers, filters, and amplifiers - Lead suppliers by providing technical design specifications and\\ntesting requirements to meet SSL standards - Utilize FA process to monitor overall project field performance.\\nAudits and DFM reviews on-site with suppliers - Investigated the algorithm to optimize the overall RF system performance for design,\\nmanufacturing and testing - Perform EVT, DVT and PVT validations and quality measurements for satellite assembly at system and unit\\nlevels - Drive and track closure on any RF components and modules NCs and issues impact to production readiness - Work with cross-\\nfunctional teams to execute completion of satellite system design to fulfill contract requirement - Generate cascade RF performance\\nprediction analyses (i.e.\\nNF, Gain, IP3, 1dB-Comp, spurious, etc) - Exercises independent judgment in developing methods, techniques, and evaluation criterion for\\nobtaining results - Monitor and measure manufacturing processes to reduce losses, decrease time span and improve quality.\\nSystem Data Analyst\\n \\nAugust 2011\\n \\nto \\nDecember 2013\\n \\nCompany Name\\nPrioritize and extract big data from Purdue University's SQL database and maintain its accuracy and completeness - Develop and\\nimplement data collection systems strategies that optimize statistical efficiency and data quality - Data manipulation language SQL\\ncommands and utilize statistical tools including Excel, SAS, and SPSS.\\nCreate complex charts and temporarily databases, perform data mining, and develop pivot tables for publication - Design and customize\\nreports based upon data structure and determine additional data collection requirements - Provide documentation based on audit and report\\ncriteria to investigators and research staff - Serve as a resource for non-routine inquiries such as requests for statistics or surveys.\\nElectrical/Validation Engineer\\n \\nMay 2011\\n \\nto \\nAugust 2011\\n \\nCompany Name\\nDevelop and maintain data requirement for PCBA EVT, DVT, and PVT assembly for touch-pads - Design and implement automated test\\nfor sensitivity, packrat, hovering, profiles, ripple, GSM, EMI, and ESD - Monitor manufacturer IC packaging test yields and field return\\nfailure data to identify root cause - Develop in-depth reliability testing procedures: storage, thermal stock, drop and tap tests - Perform\\ndebug and troubleshooting of product in house and at contract manufacturer site for support - Contribute in manufacturing diagnostic\\nreviews to improve overall debug process more efficiently and effectively - Support internal and external customer related to lab data\\ncollection and verification of an application issue.\\nEducation\\nM.S\\n \\n: \\nElectrical and Computer Engineering\\n \\n, \\nDec. 2013\\n \\nPURDUE UNIVERSITY\\n \\nGPA: \\nGPA: 3.9/4.0\\n \\nElectrical and Computer Engineering GPA:\\n3.9/4.0\\nB.S\\n \\n: \\nElectrical and Computer Engineering\\n \\n, \\nDec.\", mimetype='text/plain', start_char_idx=0, end_char_idx=4170, text_template='{metadata_str}\\n\\n{content}', metadata_template='{key}: {value}', metadata_seperator='\\n'), score=0.25922754744654536)], metadata={'9cddbe92-8d47-43fe-a44f-83fddfe78ebd': {'page_label': '1', 'file_name': '10265057.pdf', 'file_path': 'c:\\\\Users\\\\ch255039\\\\Downloads\\\\work\\\\projects\\\\Resume_Parser\\\\resume-analyzer\\\\chatbot\\\\uploads\\\\10265057.pdf', 'file_type': 'application/pdf', 'file_size': 20247, 'creation_date': '2024-07-23', 'last_modified_date': '2024-07-09'}, '8ba74307-7496-4220-a1f2-44905925e730': {'page_label': '1', 'file_name': '10265057.pdf', 'file_path': 'c:\\\\Users\\\\ch255039\\\\Downloads\\\\work\\\\projects\\\\Resume_Parser\\\\resume-analyzer\\\\chatbot\\\\uploads\\\\10265057.pdf', 'file_type': 'application/pdf', 'file_size': 20247, 'creation_date': '2024-07-23', 'last_modified_date': '2024-07-09'}})"
      ]
     },
     "execution_count": 11,
     "metadata": {},
     "output_type": "execute_result"
    }
   ],
   "source": [
    "# print(\"\\n\\n Now generating indexes...\")\n",
    "# create_indexing()\n",
    "\n",
    "# print(\"\\n\\n Load query engine\")\n",
    "vector_query(query=\"Give me name of education details\")"
   ]
  },
  {
   "cell_type": "code",
   "execution_count": 12,
   "metadata": {},
   "outputs": [],
   "source": [
    "vector_query_tool = FunctionTool.from_defaults(name=f\"vector_tool\", fn=vector_query)"
   ]
  },
  {
   "cell_type": "code",
   "execution_count": 13,
   "metadata": {},
   "outputs": [],
   "source": [
    "from llama_index.core import VectorStoreIndex\n",
    "from llama_index.core.objects import ObjectIndex\n",
    "from llama_index.agent.openai import OpenAIAgent\n",
    "\n",
    "#\n",
    "\n",
    "initial_tools = [vector_query_tool]\n",
    "agent = OpenAIAgent.from_tools(initial_tools, verbose=True)\n",
    "# obj_index = ObjectIndex.from_objects(initial_tools, index_cls=VectorStoreIndex)"
   ]
  },
  {
   "cell_type": "code",
   "execution_count": 18,
   "metadata": {},
   "outputs": [
    {
     "name": "stdout",
     "output_type": "stream",
     "text": [
      "Added user message to memory: Can you give me resume with experience as SYSTEMS ENGINEER?\n",
      "=== Calling Function ===\n",
      "Calling function: vector_tool with args: {\"query\":\"SYSTEMS ENGINEER\"}\n",
      "Got output: The individual has experience as an RF Systems Engineer, working on satellite communication architecture designs, defining RF hardware unit procedures, leading suppliers, monitoring project field performance, conducting audits and reviews, optimizing RF system performance, performing validations and quality measurements, tracking closure on components, collaborating with cross-functional teams, and generating RF performance analyses.\n",
      "========================\n",
      "\n"
     ]
    }
   ],
   "source": [
    "response = agent.chat(\"Can you give me resume with experience as SYSTEMS ENGINEER?\")"
   ]
  },
  {
   "cell_type": "code",
   "execution_count": 20,
   "metadata": {},
   "outputs": [
    {
     "name": "stdout",
     "output_type": "stream",
     "text": [
      "The individual has experience as an RF Systems Engineer, working on satellite communication architecture designs, defining RF hardware unit procedures, leading suppliers, monitoring project field performance, conducting audits and reviews, optimizing RF system performance, performing validations and quality measurements, tracking closure on components, collaborating with cross-functional teams, and generating RF performance analyses.\n"
     ]
    }
   ],
   "source": [
    "print(response.response)"
   ]
  },
  {
   "cell_type": "code",
   "execution_count": 38,
   "metadata": {},
   "outputs": [],
   "source": [
    "metadata_dict = response.sources[0].raw_output.metadata"
   ]
  },
  {
   "cell_type": "code",
   "execution_count": 43,
   "metadata": {},
   "outputs": [
    {
     "name": "stdout",
     "output_type": "stream",
     "text": [
      "File name: 10265057.pdf - 1\n",
      "File name: 10553553.pdf - 1\n"
     ]
    }
   ],
   "source": [
    "metadata = []\n",
    "for f in metadata_dict.values():\n",
    "    print(f\"File name: {f['file_name']} - {f['page_label']}\")\n",
    "    metadata.append(f\"File name: {f['file_name']} - {f['page_label']}\")"
   ]
  },
  {
   "cell_type": "code",
   "execution_count": 44,
   "metadata": {},
   "outputs": [
    {
     "data": {
      "text/plain": [
       "['File name: 10265057.pdf - 1', 'File name: 10553553.pdf - 1']"
      ]
     },
     "execution_count": 44,
     "metadata": {},
     "output_type": "execute_result"
    }
   ],
   "source": [
    "metadata"
   ]
  },
  {
   "cell_type": "code",
   "execution_count": null,
   "metadata": {},
   "outputs": [],
   "source": []
  }
 ],
 "metadata": {
  "kernelspec": {
   "display_name": "resume_parser",
   "language": "python",
   "name": "python3"
  },
  "language_info": {
   "codemirror_mode": {
    "name": "ipython",
    "version": 3
   },
   "file_extension": ".py",
   "mimetype": "text/x-python",
   "name": "python",
   "nbconvert_exporter": "python",
   "pygments_lexer": "ipython3",
   "version": "3.12.4"
  }
 },
 "nbformat": 4,
 "nbformat_minor": 2
}
